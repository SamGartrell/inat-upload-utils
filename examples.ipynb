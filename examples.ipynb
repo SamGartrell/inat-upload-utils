{
 "cells": [
  {
   "cell_type": "markdown",
   "metadata": {},
   "source": [
    "#### Setup: Import the InatUtils class, pointed at the proper in/out folders.\n",
    "Default parameters:\n",
    "<br>\n",
    "| Param           | Type          | Default Value  |\n",
    "|-----------------|---------------|----------------|\n",
    "| photo_dir       | str           | \"in_photos\"    |\n",
    "| gpx_dir         | str           | \"in_gpx\"       |\n",
    "| output_dir      | str           | \"out_photos\"   |\n",
    "| gmt_offset      | int           | -8             |\n",
    "| token           | str           | None           |\n",
    "| trusted_genera  | list          | []             |\n",
    "| log_level       | str           | \"INFO\"         |\n",
    "| min_score       | int \\| float  | 75             |\n",
    "\n",
    "#### 1. Georeference photos\n",
    "If you've pointed the tool at your GPX and photos, it will try to georeference them on startup (see below)"
   ]
  },
  {
   "cell_type": "code",
   "execution_count": 1,
   "metadata": {},
   "outputs": [
    {
     "name": "stderr",
     "output_type": "stream",
     "text": [
      "WARNING:geo:get_exif_timestamp:355:No exif data found for gfhd32343j43334.jpg\n",
      "WARNING:geo:get_exif_timestamp:374:No exif data found for IMG_8782.jpeg\n",
      "INFO:id:refresh_token:20:getting token...\n"
     ]
    },
    {
     "name": "stdout",
     "output_type": "stream",
     "text": [
      "modification complete\n",
      "image written to f:\\SGP\\repos\\inat-upload-utils\\out_photos\\IMG_8804_georeferenced.JPEG\n"
     ]
    },
    {
     "name": "stderr",
     "output_type": "stream",
     "text": [
      "WARNING:id:refresh_token:33:returning manual_token\n"
     ]
    },
    {
     "name": "stdout",
     "output_type": "stream",
     "text": [
      "33.33333333333333% of observations are georeferenced\n",
      "\t IMG_8804_georeferenced.JPEG\n"
     ]
    }
   ],
   "source": [
    "from inatutils import InatUtils\n",
    "\n",
    "iu = InatUtils()\n",
    "print(f\"{iu.georeferenced_percent}% of observations are georeferenced:\")\n",
    "for op in iu.out_photos:\n",
    "    print('\\t', op.name)"
   ]
  },
  {
   "cell_type": "markdown",
   "metadata": {},
   "source": [
    "#### 2. Identify Images\n",
    "Once the images have been loaded, calling `iu.identify()` will iteratively submit them to the iNaturalist CV module. It will reject all results scored lower than its configured `min_score` property, which you can configure.\n",
    "\n",
    "Sometimes, the tool will be able to use a common ancestor of the results, if no result meets the `min_score` requirement, e.g. fall back on Genus if it can't decide on Species, similar to the iNat upload UI behavior.\n",
    "\n",
    "Georeferenced photos in `out_photos/` inherit any successful IDs of their parent/source images. The `in_photos` property, derived from `in_photos/` is used as the source of truth when tracking georeferencing/ID/upload status per image, while the `out_photos` property contains data to images that are ready to upload.\n"
   ]
  },
  {
   "cell_type": "code",
   "execution_count": 2,
   "metadata": {},
   "outputs": [
    {
     "name": "stderr",
     "output_type": "stream",
     "text": [
      "INFO:id:interpret_results:75:acceptable ID found within confidence threshold 50:\n",
      "\tscore: 77.88450121879578\n",
      "\trank: species\n",
      "\tname: Mopalia muscosa\n",
      "\twiki: http://en.wikipedia.org/wiki/Mopalia_muscosa\n",
      "INFO:id:interpret_results:88:no acceptable ID found within confidence threshold 50:\n",
      "\tbest score: 18.84550005197525\n",
      "\trank: species\n",
      "\tname: Picea rubens\n",
      "\twiki: http://en.wikipedia.org/wiki/Picea_rubens\n",
      "INFO:id:interpret_results:95:resorting to common ancestor of all 10 results:\n",
      "\trank: genus\n",
      "\tname: Picea\n",
      "INFO:id:interpret_results:88:no acceptable ID found within confidence threshold 50:\n",
      "\tbest score: 37.61661648750305\n",
      "\trank: species\n",
      "\tname: Calicium glaucellum\n",
      "\twiki: http://en.wikipedia.org/wiki/Calicium_glaucellum\n",
      "WARNING:id:interpret_results:107:no common ancestor available; ID failed\n"
     ]
    },
    {
     "name": "stdout",
     "output_type": "stream",
     "text": [
      "66.66666666666667% of observations are identified\n",
      "gfhd32343j43334.jpg \n",
      "\t {'name': 'Mopalia muscosa', 'rank': 'species', 'score': 77.88450121879578, 'wiki': 'http://en.wikipedia.org/wiki/Mopalia_muscosa'}\n",
      "IMG_8782.jpeg \n",
      "\t {'name': 'Picea', 'rank': 'genus', 'score': None, 'wiki': 'http://en.wikipedia.org/wiki/Spruce'}\n",
      "IMG_8804.JPG \n",
      "\t {}\n",
      "IMG_8804_georeferenced.JPEG \n",
      "\t {}\n"
     ]
    }
   ],
   "source": [
    "iu.min_score = 50\n",
    "iu.identify()\n",
    "\n",
    "print(f\"\\n\\n{iu.identified_percent}% of observations are identified:\")\n",
    "\n",
    "for p in iu.in_photos:\n",
    "    print(f'\\timage:{p.name}\\n\\t\\t{p.identity}')\n",
    "\n",
    "print(f\"child images the above have inherited IDs\")\n",
    "for p in iu.out_photos:\n",
    "    print(f'\\timage:{p.name}\\n\\t\\t{p.identity}')\n"
   ]
  },
  {
   "cell_type": "markdown",
   "metadata": {},
   "source": [
    "#### 3. Upload Images\n",
    "\n",
    "...work in progress 🐛🐛🐛...\n",
    "\n",
    "I'm thinking of two approaches: \n",
    "1. name IDd as their IDs + \"_georeferenced\" if geotag succeeded, send that to the endpoint for uploading single images, and provide a url to the user for the final confirmation/data enrichment/button click the automated info before hitting submit.\n",
    "\n",
    "2. make a csv like the one outlined in [issue #1](https://github.com/SamGartrell/inat-upload-utils/issues/1), with image IDs as tags, then have another tool the user can run to stitch photos to existing observations using the photo ID in the observation tags. This could rely on the existing inaturalist python library.\n",
    "\n",
    "Challenges:\n",
    "1. how to know which photos are associated, to prevent multiple uploads of a single organism? See/weigh in on [issue #3](https://github.com/SamGartrell/inat-upload-utils/issues/3)\n",
    "2. finding the balance between ease-of-upload and respect for the [iNaturalist policy on automation](https://www.inaturalist.org/pages/machine_generated_content)... do we need an upload utility at all?\n"
   ]
  }
 ],
 "metadata": {
  "kernelspec": {
   "display_name": "inat-img-utils",
   "language": "python",
   "name": "python3"
  },
  "language_info": {
   "codemirror_mode": {
    "name": "ipython",
    "version": 3
   },
   "file_extension": ".py",
   "mimetype": "text/x-python",
   "name": "python",
   "nbconvert_exporter": "python",
   "pygments_lexer": "ipython3",
   "version": "3.12.8"
  }
 },
 "nbformat": 4,
 "nbformat_minor": 2
}
